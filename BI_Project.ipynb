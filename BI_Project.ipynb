{
  "nbformat": 4,
  "nbformat_minor": 0,
  "metadata": {
    "colab": {
      "provenance": []
    },
    "kernelspec": {
      "name": "python3",
      "display_name": "Python 3"
    },
    "language_info": {
      "name": "python"
    }
  },
  "cells": [
    {
      "cell_type": "markdown",
      "source": [
        "**Libraries**"
      ],
      "metadata": {
        "id": "59NZlmmKbsnf"
      }
    },
    {
      "cell_type": "code",
      "source": [
        "import pandas as pd\n",
        "from sklearn.preprocessing import MinMaxScaler\n",
        "import seaborn as sns\n",
        "import matplotlib.pyplot as plt\n",
        "import numpy as np\n",
        "from sklearn.preprocessing import LabelEncoder"
      ],
      "metadata": {
        "id": "NlNyTy1pbqv9"
      },
      "execution_count": 474,
      "outputs": []
    },
    {
      "cell_type": "code",
      "execution_count": 475,
      "metadata": {
        "id": "50KAwK_x869K",
        "colab": {
          "base_uri": "https://localhost:8080/",
          "height": 585
        },
        "outputId": "9b78a9ee-3c8a-4a69-e7bb-1c79bc7d01fb"
      },
      "outputs": [
        {
          "output_type": "execute_result",
          "data": {
            "text/plain": [
              "   Row ID        Order ID  Order Date   Ship Date       Ship Mode Customer ID  \\\n",
              "0       1  CA-2016-152156  11/08/2016  11/11/2016    Second Class    CG-12520   \n",
              "1       2  CA-2016-152156  11/08/2016  11/11/2016    Second Class    CG-12520   \n",
              "2       3  CA-2016-138688  06/12/2016  06/16/2016    Second Class    DV-13045   \n",
              "3       4  US-2015-108966  10/11/2015  10/18/2015  Standard Class    SO-20335   \n",
              "4       5  US-2015-108966  10/11/2015  10/18/2015  Standard Class    SO-20335   \n",
              "\n",
              "     Customer Name    Segment        Country             City  ...  \\\n",
              "0      Claire Gute   Consumer  United States        Henderson  ...   \n",
              "1      Claire Gute   Consumer  United States        Henderson  ...   \n",
              "2  Darrin Van Huff  Corporate  United States      Los Angeles  ...   \n",
              "3   Sean O'Donnell   Consumer  United States  Fort Lauderdale  ...   \n",
              "4   Sean O'Donnell   Consumer  United States  Fort Lauderdale  ...   \n",
              "\n",
              "  Postal Code  Region       Product ID         Category Sub-Category  \\\n",
              "0       42420   South  FUR-BO-10001798        Furniture    Bookcases   \n",
              "1       42420   South  FUR-CH-10000454        Furniture       Chairs   \n",
              "2       90036    West  OFF-LA-10000240  Office Supplies       Labels   \n",
              "3       33311   South  FUR-TA-10000577        Furniture       Tables   \n",
              "4       33311   South  OFF-ST-10000760  Office Supplies      Storage   \n",
              "\n",
              "                                        Product Name     Sales  Quantity  \\\n",
              "0                  Bush Somerset Collection Bookcase  261.9600         2   \n",
              "1  Hon Deluxe Fabric Upholstered Stacking Chairs,...  731.9400         3   \n",
              "2  Self-Adhesive Address Labels for Typewriters b...   14.6200         2   \n",
              "3      Bretford CR4500 Series Slim Rectangular Table  957.5775         5   \n",
              "4                     Eldon Fold 'N Roll Cart System   22.3680         2   \n",
              "\n",
              "   Discount    Profit  \n",
              "0      0.00   41.9136  \n",
              "1      0.00  219.5820  \n",
              "2      0.00    6.8714  \n",
              "3      0.45 -383.0310  \n",
              "4      0.20    2.5164  \n",
              "\n",
              "[5 rows x 21 columns]"
            ],
            "text/html": [
              "\n",
              "  <div id=\"df-d8e96fbb-820d-40ca-b47a-d8e6e80f7fe2\" class=\"colab-df-container\">\n",
              "    <div>\n",
              "<style scoped>\n",
              "    .dataframe tbody tr th:only-of-type {\n",
              "        vertical-align: middle;\n",
              "    }\n",
              "\n",
              "    .dataframe tbody tr th {\n",
              "        vertical-align: top;\n",
              "    }\n",
              "\n",
              "    .dataframe thead th {\n",
              "        text-align: right;\n",
              "    }\n",
              "</style>\n",
              "<table border=\"1\" class=\"dataframe\">\n",
              "  <thead>\n",
              "    <tr style=\"text-align: right;\">\n",
              "      <th></th>\n",
              "      <th>Row ID</th>\n",
              "      <th>Order ID</th>\n",
              "      <th>Order Date</th>\n",
              "      <th>Ship Date</th>\n",
              "      <th>Ship Mode</th>\n",
              "      <th>Customer ID</th>\n",
              "      <th>Customer Name</th>\n",
              "      <th>Segment</th>\n",
              "      <th>Country</th>\n",
              "      <th>City</th>\n",
              "      <th>...</th>\n",
              "      <th>Postal Code</th>\n",
              "      <th>Region</th>\n",
              "      <th>Product ID</th>\n",
              "      <th>Category</th>\n",
              "      <th>Sub-Category</th>\n",
              "      <th>Product Name</th>\n",
              "      <th>Sales</th>\n",
              "      <th>Quantity</th>\n",
              "      <th>Discount</th>\n",
              "      <th>Profit</th>\n",
              "    </tr>\n",
              "  </thead>\n",
              "  <tbody>\n",
              "    <tr>\n",
              "      <th>0</th>\n",
              "      <td>1</td>\n",
              "      <td>CA-2016-152156</td>\n",
              "      <td>11/08/2016</td>\n",
              "      <td>11/11/2016</td>\n",
              "      <td>Second Class</td>\n",
              "      <td>CG-12520</td>\n",
              "      <td>Claire Gute</td>\n",
              "      <td>Consumer</td>\n",
              "      <td>United States</td>\n",
              "      <td>Henderson</td>\n",
              "      <td>...</td>\n",
              "      <td>42420</td>\n",
              "      <td>South</td>\n",
              "      <td>FUR-BO-10001798</td>\n",
              "      <td>Furniture</td>\n",
              "      <td>Bookcases</td>\n",
              "      <td>Bush Somerset Collection Bookcase</td>\n",
              "      <td>261.9600</td>\n",
              "      <td>2</td>\n",
              "      <td>0.00</td>\n",
              "      <td>41.9136</td>\n",
              "    </tr>\n",
              "    <tr>\n",
              "      <th>1</th>\n",
              "      <td>2</td>\n",
              "      <td>CA-2016-152156</td>\n",
              "      <td>11/08/2016</td>\n",
              "      <td>11/11/2016</td>\n",
              "      <td>Second Class</td>\n",
              "      <td>CG-12520</td>\n",
              "      <td>Claire Gute</td>\n",
              "      <td>Consumer</td>\n",
              "      <td>United States</td>\n",
              "      <td>Henderson</td>\n",
              "      <td>...</td>\n",
              "      <td>42420</td>\n",
              "      <td>South</td>\n",
              "      <td>FUR-CH-10000454</td>\n",
              "      <td>Furniture</td>\n",
              "      <td>Chairs</td>\n",
              "      <td>Hon Deluxe Fabric Upholstered Stacking Chairs,...</td>\n",
              "      <td>731.9400</td>\n",
              "      <td>3</td>\n",
              "      <td>0.00</td>\n",
              "      <td>219.5820</td>\n",
              "    </tr>\n",
              "    <tr>\n",
              "      <th>2</th>\n",
              "      <td>3</td>\n",
              "      <td>CA-2016-138688</td>\n",
              "      <td>06/12/2016</td>\n",
              "      <td>06/16/2016</td>\n",
              "      <td>Second Class</td>\n",
              "      <td>DV-13045</td>\n",
              "      <td>Darrin Van Huff</td>\n",
              "      <td>Corporate</td>\n",
              "      <td>United States</td>\n",
              "      <td>Los Angeles</td>\n",
              "      <td>...</td>\n",
              "      <td>90036</td>\n",
              "      <td>West</td>\n",
              "      <td>OFF-LA-10000240</td>\n",
              "      <td>Office Supplies</td>\n",
              "      <td>Labels</td>\n",
              "      <td>Self-Adhesive Address Labels for Typewriters b...</td>\n",
              "      <td>14.6200</td>\n",
              "      <td>2</td>\n",
              "      <td>0.00</td>\n",
              "      <td>6.8714</td>\n",
              "    </tr>\n",
              "    <tr>\n",
              "      <th>3</th>\n",
              "      <td>4</td>\n",
              "      <td>US-2015-108966</td>\n",
              "      <td>10/11/2015</td>\n",
              "      <td>10/18/2015</td>\n",
              "      <td>Standard Class</td>\n",
              "      <td>SO-20335</td>\n",
              "      <td>Sean O'Donnell</td>\n",
              "      <td>Consumer</td>\n",
              "      <td>United States</td>\n",
              "      <td>Fort Lauderdale</td>\n",
              "      <td>...</td>\n",
              "      <td>33311</td>\n",
              "      <td>South</td>\n",
              "      <td>FUR-TA-10000577</td>\n",
              "      <td>Furniture</td>\n",
              "      <td>Tables</td>\n",
              "      <td>Bretford CR4500 Series Slim Rectangular Table</td>\n",
              "      <td>957.5775</td>\n",
              "      <td>5</td>\n",
              "      <td>0.45</td>\n",
              "      <td>-383.0310</td>\n",
              "    </tr>\n",
              "    <tr>\n",
              "      <th>4</th>\n",
              "      <td>5</td>\n",
              "      <td>US-2015-108966</td>\n",
              "      <td>10/11/2015</td>\n",
              "      <td>10/18/2015</td>\n",
              "      <td>Standard Class</td>\n",
              "      <td>SO-20335</td>\n",
              "      <td>Sean O'Donnell</td>\n",
              "      <td>Consumer</td>\n",
              "      <td>United States</td>\n",
              "      <td>Fort Lauderdale</td>\n",
              "      <td>...</td>\n",
              "      <td>33311</td>\n",
              "      <td>South</td>\n",
              "      <td>OFF-ST-10000760</td>\n",
              "      <td>Office Supplies</td>\n",
              "      <td>Storage</td>\n",
              "      <td>Eldon Fold 'N Roll Cart System</td>\n",
              "      <td>22.3680</td>\n",
              "      <td>2</td>\n",
              "      <td>0.20</td>\n",
              "      <td>2.5164</td>\n",
              "    </tr>\n",
              "  </tbody>\n",
              "</table>\n",
              "<p>5 rows × 21 columns</p>\n",
              "</div>\n",
              "    <div class=\"colab-df-buttons\">\n",
              "\n",
              "  <div class=\"colab-df-container\">\n",
              "    <button class=\"colab-df-convert\" onclick=\"convertToInteractive('df-d8e96fbb-820d-40ca-b47a-d8e6e80f7fe2')\"\n",
              "            title=\"Convert this dataframe to an interactive table.\"\n",
              "            style=\"display:none;\">\n",
              "\n",
              "  <svg xmlns=\"http://www.w3.org/2000/svg\" height=\"24px\" viewBox=\"0 -960 960 960\">\n",
              "    <path d=\"M120-120v-720h720v720H120Zm60-500h600v-160H180v160Zm220 220h160v-160H400v160Zm0 220h160v-160H400v160ZM180-400h160v-160H180v160Zm440 0h160v-160H620v160ZM180-180h160v-160H180v160Zm440 0h160v-160H620v160Z\"/>\n",
              "  </svg>\n",
              "    </button>\n",
              "\n",
              "  <style>\n",
              "    .colab-df-container {\n",
              "      display:flex;\n",
              "      gap: 12px;\n",
              "    }\n",
              "\n",
              "    .colab-df-convert {\n",
              "      background-color: #E8F0FE;\n",
              "      border: none;\n",
              "      border-radius: 50%;\n",
              "      cursor: pointer;\n",
              "      display: none;\n",
              "      fill: #1967D2;\n",
              "      height: 32px;\n",
              "      padding: 0 0 0 0;\n",
              "      width: 32px;\n",
              "    }\n",
              "\n",
              "    .colab-df-convert:hover {\n",
              "      background-color: #E2EBFA;\n",
              "      box-shadow: 0px 1px 2px rgba(60, 64, 67, 0.3), 0px 1px 3px 1px rgba(60, 64, 67, 0.15);\n",
              "      fill: #174EA6;\n",
              "    }\n",
              "\n",
              "    .colab-df-buttons div {\n",
              "      margin-bottom: 4px;\n",
              "    }\n",
              "\n",
              "    [theme=dark] .colab-df-convert {\n",
              "      background-color: #3B4455;\n",
              "      fill: #D2E3FC;\n",
              "    }\n",
              "\n",
              "    [theme=dark] .colab-df-convert:hover {\n",
              "      background-color: #434B5C;\n",
              "      box-shadow: 0px 1px 3px 1px rgba(0, 0, 0, 0.15);\n",
              "      filter: drop-shadow(0px 1px 2px rgba(0, 0, 0, 0.3));\n",
              "      fill: #FFFFFF;\n",
              "    }\n",
              "  </style>\n",
              "\n",
              "    <script>\n",
              "      const buttonEl =\n",
              "        document.querySelector('#df-d8e96fbb-820d-40ca-b47a-d8e6e80f7fe2 button.colab-df-convert');\n",
              "      buttonEl.style.display =\n",
              "        google.colab.kernel.accessAllowed ? 'block' : 'none';\n",
              "\n",
              "      async function convertToInteractive(key) {\n",
              "        const element = document.querySelector('#df-d8e96fbb-820d-40ca-b47a-d8e6e80f7fe2');\n",
              "        const dataTable =\n",
              "          await google.colab.kernel.invokeFunction('convertToInteractive',\n",
              "                                                    [key], {});\n",
              "        if (!dataTable) return;\n",
              "\n",
              "        const docLinkHtml = 'Like what you see? Visit the ' +\n",
              "          '<a target=\"_blank\" href=https://colab.research.google.com/notebooks/data_table.ipynb>data table notebook</a>'\n",
              "          + ' to learn more about interactive tables.';\n",
              "        element.innerHTML = '';\n",
              "        dataTable['output_type'] = 'display_data';\n",
              "        await google.colab.output.renderOutput(dataTable, element);\n",
              "        const docLink = document.createElement('div');\n",
              "        docLink.innerHTML = docLinkHtml;\n",
              "        element.appendChild(docLink);\n",
              "      }\n",
              "    </script>\n",
              "  </div>\n",
              "\n",
              "\n",
              "<div id=\"df-961329d0-5652-43d4-b893-31c27b4a8729\">\n",
              "  <button class=\"colab-df-quickchart\" onclick=\"quickchart('df-961329d0-5652-43d4-b893-31c27b4a8729')\"\n",
              "            title=\"Suggest charts\"\n",
              "            style=\"display:none;\">\n",
              "\n",
              "<svg xmlns=\"http://www.w3.org/2000/svg\" height=\"24px\"viewBox=\"0 0 24 24\"\n",
              "     width=\"24px\">\n",
              "    <g>\n",
              "        <path d=\"M19 3H5c-1.1 0-2 .9-2 2v14c0 1.1.9 2 2 2h14c1.1 0 2-.9 2-2V5c0-1.1-.9-2-2-2zM9 17H7v-7h2v7zm4 0h-2V7h2v10zm4 0h-2v-4h2v4z\"/>\n",
              "    </g>\n",
              "</svg>\n",
              "  </button>\n",
              "\n",
              "<style>\n",
              "  .colab-df-quickchart {\n",
              "      --bg-color: #E8F0FE;\n",
              "      --fill-color: #1967D2;\n",
              "      --hover-bg-color: #E2EBFA;\n",
              "      --hover-fill-color: #174EA6;\n",
              "      --disabled-fill-color: #AAA;\n",
              "      --disabled-bg-color: #DDD;\n",
              "  }\n",
              "\n",
              "  [theme=dark] .colab-df-quickchart {\n",
              "      --bg-color: #3B4455;\n",
              "      --fill-color: #D2E3FC;\n",
              "      --hover-bg-color: #434B5C;\n",
              "      --hover-fill-color: #FFFFFF;\n",
              "      --disabled-bg-color: #3B4455;\n",
              "      --disabled-fill-color: #666;\n",
              "  }\n",
              "\n",
              "  .colab-df-quickchart {\n",
              "    background-color: var(--bg-color);\n",
              "    border: none;\n",
              "    border-radius: 50%;\n",
              "    cursor: pointer;\n",
              "    display: none;\n",
              "    fill: var(--fill-color);\n",
              "    height: 32px;\n",
              "    padding: 0;\n",
              "    width: 32px;\n",
              "  }\n",
              "\n",
              "  .colab-df-quickchart:hover {\n",
              "    background-color: var(--hover-bg-color);\n",
              "    box-shadow: 0 1px 2px rgba(60, 64, 67, 0.3), 0 1px 3px 1px rgba(60, 64, 67, 0.15);\n",
              "    fill: var(--button-hover-fill-color);\n",
              "  }\n",
              "\n",
              "  .colab-df-quickchart-complete:disabled,\n",
              "  .colab-df-quickchart-complete:disabled:hover {\n",
              "    background-color: var(--disabled-bg-color);\n",
              "    fill: var(--disabled-fill-color);\n",
              "    box-shadow: none;\n",
              "  }\n",
              "\n",
              "  .colab-df-spinner {\n",
              "    border: 2px solid var(--fill-color);\n",
              "    border-color: transparent;\n",
              "    border-bottom-color: var(--fill-color);\n",
              "    animation:\n",
              "      spin 1s steps(1) infinite;\n",
              "  }\n",
              "\n",
              "  @keyframes spin {\n",
              "    0% {\n",
              "      border-color: transparent;\n",
              "      border-bottom-color: var(--fill-color);\n",
              "      border-left-color: var(--fill-color);\n",
              "    }\n",
              "    20% {\n",
              "      border-color: transparent;\n",
              "      border-left-color: var(--fill-color);\n",
              "      border-top-color: var(--fill-color);\n",
              "    }\n",
              "    30% {\n",
              "      border-color: transparent;\n",
              "      border-left-color: var(--fill-color);\n",
              "      border-top-color: var(--fill-color);\n",
              "      border-right-color: var(--fill-color);\n",
              "    }\n",
              "    40% {\n",
              "      border-color: transparent;\n",
              "      border-right-color: var(--fill-color);\n",
              "      border-top-color: var(--fill-color);\n",
              "    }\n",
              "    60% {\n",
              "      border-color: transparent;\n",
              "      border-right-color: var(--fill-color);\n",
              "    }\n",
              "    80% {\n",
              "      border-color: transparent;\n",
              "      border-right-color: var(--fill-color);\n",
              "      border-bottom-color: var(--fill-color);\n",
              "    }\n",
              "    90% {\n",
              "      border-color: transparent;\n",
              "      border-bottom-color: var(--fill-color);\n",
              "    }\n",
              "  }\n",
              "</style>\n",
              "\n",
              "  <script>\n",
              "    async function quickchart(key) {\n",
              "      const quickchartButtonEl =\n",
              "        document.querySelector('#' + key + ' button');\n",
              "      quickchartButtonEl.disabled = true;  // To prevent multiple clicks.\n",
              "      quickchartButtonEl.classList.add('colab-df-spinner');\n",
              "      try {\n",
              "        const charts = await google.colab.kernel.invokeFunction(\n",
              "            'suggestCharts', [key], {});\n",
              "      } catch (error) {\n",
              "        console.error('Error during call to suggestCharts:', error);\n",
              "      }\n",
              "      quickchartButtonEl.classList.remove('colab-df-spinner');\n",
              "      quickchartButtonEl.classList.add('colab-df-quickchart-complete');\n",
              "    }\n",
              "    (() => {\n",
              "      let quickchartButtonEl =\n",
              "        document.querySelector('#df-961329d0-5652-43d4-b893-31c27b4a8729 button');\n",
              "      quickchartButtonEl.style.display =\n",
              "        google.colab.kernel.accessAllowed ? 'block' : 'none';\n",
              "    })();\n",
              "  </script>\n",
              "</div>\n",
              "\n",
              "    </div>\n",
              "  </div>\n"
            ],
            "application/vnd.google.colaboratory.intrinsic+json": {
              "type": "dataframe",
              "variable_name": "data"
            }
          },
          "metadata": {},
          "execution_count": 475
        }
      ],
      "source": [
        "data = pd.read_csv('/content/WalmartDataset.csv', encoding='latin-1')\n",
        "data.head()"
      ]
    },
    {
      "cell_type": "markdown",
      "source": [
        "\n",
        "**Data Exploration**\n"
      ],
      "metadata": {
        "id": "g-3hiJdxJSyt"
      }
    },
    {
      "cell_type": "code",
      "source": [
        "summary_statistics = data.describe()\n",
        "print(summary_statistics)"
      ],
      "metadata": {
        "id": "qRQOk1vFBETv",
        "colab": {
          "base_uri": "https://localhost:8080/"
        },
        "outputId": "dde5c232-0efa-4c30-ed8d-765e0cb447e4"
      },
      "execution_count": 476,
      "outputs": [
        {
          "output_type": "stream",
          "name": "stdout",
          "text": [
            "            Row ID   Postal Code         Sales     Quantity     Discount  \\\n",
            "count  9994.000000   9994.000000   9994.000000  9994.000000  9945.000000   \n",
            "mean   4997.500000  55190.379428    229.858001     3.789574     0.156972   \n",
            "std    2885.163629  32063.693350    623.245101     2.225110     0.206668   \n",
            "min       1.000000   1040.000000      0.444000     1.000000     0.000000   \n",
            "25%    2499.250000  23223.000000     17.280000     2.000000     0.000000   \n",
            "50%    4997.500000  56430.500000     54.490000     3.000000     0.200000   \n",
            "75%    7495.750000  90008.000000    209.940000     5.000000     0.200000   \n",
            "max    9994.000000  99301.000000  22638.480000    14.000000     0.800000   \n",
            "\n",
            "            Profit  \n",
            "count  9994.000000  \n",
            "mean     28.656896  \n",
            "std     234.260108  \n",
            "min   -6599.978000  \n",
            "25%       1.728750  \n",
            "50%       8.666500  \n",
            "75%      29.364000  \n",
            "max    8399.976000  \n"
          ]
        }
      ]
    },
    {
      "cell_type": "markdown",
      "source": [
        "**Usable Functions**"
      ],
      "metadata": {
        "id": "dBIwPVaIcBCv"
      }
    },
    {
      "cell_type": "code",
      "source": [
        "def print_missing_values(df):\n",
        "    missing_values = df.isnull().sum()\n",
        "    print(missing_values)\n",
        "\n",
        "def visualize_box_plot(data):\n",
        "  numerical_columns = data.select_dtypes(include=['int64', 'float64']).columns\n",
        "\n",
        "  # Creating box plots for each numerical column\n",
        "  for column in numerical_columns:\n",
        "      plt.figure(figsize=(8, 6))  # Set figure size\n",
        "      sns.boxplot(x=data[column])  # Create box plot\n",
        "      plt.xlabel(column)  # Set x-axis label\n",
        "      plt.title(f'Box Plot of {column}')  # Set plot title\n",
        "      plt.show()  # Show plot\n",
        "\n",
        "def normalize_data(date):\n",
        "  # Initialize the MinMaxScaler\n",
        "  scaler = MinMaxScaler()\n",
        "\n",
        "  # Fit and transform the 'Sales' and 'Profit' columns\n",
        "  data[['Sales', 'Profit']] = scaler.fit_transform(data[['Sales', 'Profit']])\n",
        "\n",
        "  # Display the first few rows of the DataFrame after normalization\n",
        "  print(data.head())\n",
        "\n",
        "def handle_outliers_iqr(data, column):\n",
        "    Q1 = np.percentile(data[column], 25)\n",
        "    Q3 = np.percentile(data[column], 75)\n",
        "    IQR = Q3 - Q1\n",
        "    lower_fence = Q1 - 1.5 * IQR\n",
        "    upper_fence = Q3 + 1.5 * IQR\n",
        "\n",
        "\n",
        "    data.loc[data[column] < lower_fence, column] = lower_fence\n",
        "    data.loc[data[column] > upper_fence, column] = upper_fence\n",
        "\n",
        "encoder = LabelEncoder()\n",
        "\n",
        "def Feature_Encoder(data, cols):\n",
        "    for c in cols:\n",
        "        data[c] = encoder.fit_transform(data[c])\n",
        "    return data"
      ],
      "metadata": {
        "id": "L4R96a62HRW5"
      },
      "execution_count": 477,
      "outputs": []
    },
    {
      "cell_type": "markdown",
      "source": [
        "**Pre-Processing Steps**"
      ],
      "metadata": {
        "id": "39Zx6XbEF5Bj"
      }
    },
    {
      "cell_type": "code",
      "source": [
        "print_missing_values(data)"
      ],
      "metadata": {
        "id": "4IYLAAgUHW39",
        "colab": {
          "base_uri": "https://localhost:8080/"
        },
        "outputId": "5e8699e6-694b-4d45-bbe1-eff99038d74b"
      },
      "execution_count": 478,
      "outputs": [
        {
          "output_type": "stream",
          "name": "stdout",
          "text": [
            "Row ID            0\n",
            "Order ID          0\n",
            "Order Date        0\n",
            "Ship Date         0\n",
            "Ship Mode        23\n",
            "Customer ID       0\n",
            "Customer Name     0\n",
            "Segment           0\n",
            "Country           0\n",
            "City              0\n",
            "State             0\n",
            "Postal Code       0\n",
            "Region            0\n",
            "Product ID        0\n",
            "Category          0\n",
            "Sub-Category      0\n",
            "Product Name      0\n",
            "Sales             0\n",
            "Quantity          0\n",
            "Discount         49\n",
            "Profit            0\n",
            "dtype: int64\n"
          ]
        }
      ]
    },
    {
      "cell_type": "markdown",
      "source": [
        "**(1) drop unnecessary columns**"
      ],
      "metadata": {
        "id": "Yoet3GqTch8_"
      }
    },
    {
      "cell_type": "code",
      "source": [
        "data.drop(data.columns[0], axis=1, inplace= True)\n",
        "data.head()"
      ],
      "metadata": {
        "id": "nKJL0lDsUZnj",
        "colab": {
          "base_uri": "https://localhost:8080/",
          "height": 556
        },
        "outputId": "59a79a14-100d-4d15-d0c9-7d97175cdd04"
      },
      "execution_count": 479,
      "outputs": [
        {
          "output_type": "execute_result",
          "data": {
            "text/plain": [
              "         Order ID  Order Date   Ship Date       Ship Mode Customer ID  \\\n",
              "0  CA-2016-152156  11/08/2016  11/11/2016    Second Class    CG-12520   \n",
              "1  CA-2016-152156  11/08/2016  11/11/2016    Second Class    CG-12520   \n",
              "2  CA-2016-138688  06/12/2016  06/16/2016    Second Class    DV-13045   \n",
              "3  US-2015-108966  10/11/2015  10/18/2015  Standard Class    SO-20335   \n",
              "4  US-2015-108966  10/11/2015  10/18/2015  Standard Class    SO-20335   \n",
              "\n",
              "     Customer Name    Segment        Country             City       State  \\\n",
              "0      Claire Gute   Consumer  United States        Henderson    Kentucky   \n",
              "1      Claire Gute   Consumer  United States        Henderson    Kentucky   \n",
              "2  Darrin Van Huff  Corporate  United States      Los Angeles  California   \n",
              "3   Sean O'Donnell   Consumer  United States  Fort Lauderdale     Florida   \n",
              "4   Sean O'Donnell   Consumer  United States  Fort Lauderdale     Florida   \n",
              "\n",
              "   Postal Code Region       Product ID         Category Sub-Category  \\\n",
              "0        42420  South  FUR-BO-10001798        Furniture    Bookcases   \n",
              "1        42420  South  FUR-CH-10000454        Furniture       Chairs   \n",
              "2        90036   West  OFF-LA-10000240  Office Supplies       Labels   \n",
              "3        33311  South  FUR-TA-10000577        Furniture       Tables   \n",
              "4        33311  South  OFF-ST-10000760  Office Supplies      Storage   \n",
              "\n",
              "                                        Product Name     Sales  Quantity  \\\n",
              "0                  Bush Somerset Collection Bookcase  261.9600         2   \n",
              "1  Hon Deluxe Fabric Upholstered Stacking Chairs,...  731.9400         3   \n",
              "2  Self-Adhesive Address Labels for Typewriters b...   14.6200         2   \n",
              "3      Bretford CR4500 Series Slim Rectangular Table  957.5775         5   \n",
              "4                     Eldon Fold 'N Roll Cart System   22.3680         2   \n",
              "\n",
              "   Discount    Profit  \n",
              "0      0.00   41.9136  \n",
              "1      0.00  219.5820  \n",
              "2      0.00    6.8714  \n",
              "3      0.45 -383.0310  \n",
              "4      0.20    2.5164  "
            ],
            "text/html": [
              "\n",
              "  <div id=\"df-9538db4d-a5b4-49e2-89e6-28535376501b\" class=\"colab-df-container\">\n",
              "    <div>\n",
              "<style scoped>\n",
              "    .dataframe tbody tr th:only-of-type {\n",
              "        vertical-align: middle;\n",
              "    }\n",
              "\n",
              "    .dataframe tbody tr th {\n",
              "        vertical-align: top;\n",
              "    }\n",
              "\n",
              "    .dataframe thead th {\n",
              "        text-align: right;\n",
              "    }\n",
              "</style>\n",
              "<table border=\"1\" class=\"dataframe\">\n",
              "  <thead>\n",
              "    <tr style=\"text-align: right;\">\n",
              "      <th></th>\n",
              "      <th>Order ID</th>\n",
              "      <th>Order Date</th>\n",
              "      <th>Ship Date</th>\n",
              "      <th>Ship Mode</th>\n",
              "      <th>Customer ID</th>\n",
              "      <th>Customer Name</th>\n",
              "      <th>Segment</th>\n",
              "      <th>Country</th>\n",
              "      <th>City</th>\n",
              "      <th>State</th>\n",
              "      <th>Postal Code</th>\n",
              "      <th>Region</th>\n",
              "      <th>Product ID</th>\n",
              "      <th>Category</th>\n",
              "      <th>Sub-Category</th>\n",
              "      <th>Product Name</th>\n",
              "      <th>Sales</th>\n",
              "      <th>Quantity</th>\n",
              "      <th>Discount</th>\n",
              "      <th>Profit</th>\n",
              "    </tr>\n",
              "  </thead>\n",
              "  <tbody>\n",
              "    <tr>\n",
              "      <th>0</th>\n",
              "      <td>CA-2016-152156</td>\n",
              "      <td>11/08/2016</td>\n",
              "      <td>11/11/2016</td>\n",
              "      <td>Second Class</td>\n",
              "      <td>CG-12520</td>\n",
              "      <td>Claire Gute</td>\n",
              "      <td>Consumer</td>\n",
              "      <td>United States</td>\n",
              "      <td>Henderson</td>\n",
              "      <td>Kentucky</td>\n",
              "      <td>42420</td>\n",
              "      <td>South</td>\n",
              "      <td>FUR-BO-10001798</td>\n",
              "      <td>Furniture</td>\n",
              "      <td>Bookcases</td>\n",
              "      <td>Bush Somerset Collection Bookcase</td>\n",
              "      <td>261.9600</td>\n",
              "      <td>2</td>\n",
              "      <td>0.00</td>\n",
              "      <td>41.9136</td>\n",
              "    </tr>\n",
              "    <tr>\n",
              "      <th>1</th>\n",
              "      <td>CA-2016-152156</td>\n",
              "      <td>11/08/2016</td>\n",
              "      <td>11/11/2016</td>\n",
              "      <td>Second Class</td>\n",
              "      <td>CG-12520</td>\n",
              "      <td>Claire Gute</td>\n",
              "      <td>Consumer</td>\n",
              "      <td>United States</td>\n",
              "      <td>Henderson</td>\n",
              "      <td>Kentucky</td>\n",
              "      <td>42420</td>\n",
              "      <td>South</td>\n",
              "      <td>FUR-CH-10000454</td>\n",
              "      <td>Furniture</td>\n",
              "      <td>Chairs</td>\n",
              "      <td>Hon Deluxe Fabric Upholstered Stacking Chairs,...</td>\n",
              "      <td>731.9400</td>\n",
              "      <td>3</td>\n",
              "      <td>0.00</td>\n",
              "      <td>219.5820</td>\n",
              "    </tr>\n",
              "    <tr>\n",
              "      <th>2</th>\n",
              "      <td>CA-2016-138688</td>\n",
              "      <td>06/12/2016</td>\n",
              "      <td>06/16/2016</td>\n",
              "      <td>Second Class</td>\n",
              "      <td>DV-13045</td>\n",
              "      <td>Darrin Van Huff</td>\n",
              "      <td>Corporate</td>\n",
              "      <td>United States</td>\n",
              "      <td>Los Angeles</td>\n",
              "      <td>California</td>\n",
              "      <td>90036</td>\n",
              "      <td>West</td>\n",
              "      <td>OFF-LA-10000240</td>\n",
              "      <td>Office Supplies</td>\n",
              "      <td>Labels</td>\n",
              "      <td>Self-Adhesive Address Labels for Typewriters b...</td>\n",
              "      <td>14.6200</td>\n",
              "      <td>2</td>\n",
              "      <td>0.00</td>\n",
              "      <td>6.8714</td>\n",
              "    </tr>\n",
              "    <tr>\n",
              "      <th>3</th>\n",
              "      <td>US-2015-108966</td>\n",
              "      <td>10/11/2015</td>\n",
              "      <td>10/18/2015</td>\n",
              "      <td>Standard Class</td>\n",
              "      <td>SO-20335</td>\n",
              "      <td>Sean O'Donnell</td>\n",
              "      <td>Consumer</td>\n",
              "      <td>United States</td>\n",
              "      <td>Fort Lauderdale</td>\n",
              "      <td>Florida</td>\n",
              "      <td>33311</td>\n",
              "      <td>South</td>\n",
              "      <td>FUR-TA-10000577</td>\n",
              "      <td>Furniture</td>\n",
              "      <td>Tables</td>\n",
              "      <td>Bretford CR4500 Series Slim Rectangular Table</td>\n",
              "      <td>957.5775</td>\n",
              "      <td>5</td>\n",
              "      <td>0.45</td>\n",
              "      <td>-383.0310</td>\n",
              "    </tr>\n",
              "    <tr>\n",
              "      <th>4</th>\n",
              "      <td>US-2015-108966</td>\n",
              "      <td>10/11/2015</td>\n",
              "      <td>10/18/2015</td>\n",
              "      <td>Standard Class</td>\n",
              "      <td>SO-20335</td>\n",
              "      <td>Sean O'Donnell</td>\n",
              "      <td>Consumer</td>\n",
              "      <td>United States</td>\n",
              "      <td>Fort Lauderdale</td>\n",
              "      <td>Florida</td>\n",
              "      <td>33311</td>\n",
              "      <td>South</td>\n",
              "      <td>OFF-ST-10000760</td>\n",
              "      <td>Office Supplies</td>\n",
              "      <td>Storage</td>\n",
              "      <td>Eldon Fold 'N Roll Cart System</td>\n",
              "      <td>22.3680</td>\n",
              "      <td>2</td>\n",
              "      <td>0.20</td>\n",
              "      <td>2.5164</td>\n",
              "    </tr>\n",
              "  </tbody>\n",
              "</table>\n",
              "</div>\n",
              "    <div class=\"colab-df-buttons\">\n",
              "\n",
              "  <div class=\"colab-df-container\">\n",
              "    <button class=\"colab-df-convert\" onclick=\"convertToInteractive('df-9538db4d-a5b4-49e2-89e6-28535376501b')\"\n",
              "            title=\"Convert this dataframe to an interactive table.\"\n",
              "            style=\"display:none;\">\n",
              "\n",
              "  <svg xmlns=\"http://www.w3.org/2000/svg\" height=\"24px\" viewBox=\"0 -960 960 960\">\n",
              "    <path d=\"M120-120v-720h720v720H120Zm60-500h600v-160H180v160Zm220 220h160v-160H400v160Zm0 220h160v-160H400v160ZM180-400h160v-160H180v160Zm440 0h160v-160H620v160ZM180-180h160v-160H180v160Zm440 0h160v-160H620v160Z\"/>\n",
              "  </svg>\n",
              "    </button>\n",
              "\n",
              "  <style>\n",
              "    .colab-df-container {\n",
              "      display:flex;\n",
              "      gap: 12px;\n",
              "    }\n",
              "\n",
              "    .colab-df-convert {\n",
              "      background-color: #E8F0FE;\n",
              "      border: none;\n",
              "      border-radius: 50%;\n",
              "      cursor: pointer;\n",
              "      display: none;\n",
              "      fill: #1967D2;\n",
              "      height: 32px;\n",
              "      padding: 0 0 0 0;\n",
              "      width: 32px;\n",
              "    }\n",
              "\n",
              "    .colab-df-convert:hover {\n",
              "      background-color: #E2EBFA;\n",
              "      box-shadow: 0px 1px 2px rgba(60, 64, 67, 0.3), 0px 1px 3px 1px rgba(60, 64, 67, 0.15);\n",
              "      fill: #174EA6;\n",
              "    }\n",
              "\n",
              "    .colab-df-buttons div {\n",
              "      margin-bottom: 4px;\n",
              "    }\n",
              "\n",
              "    [theme=dark] .colab-df-convert {\n",
              "      background-color: #3B4455;\n",
              "      fill: #D2E3FC;\n",
              "    }\n",
              "\n",
              "    [theme=dark] .colab-df-convert:hover {\n",
              "      background-color: #434B5C;\n",
              "      box-shadow: 0px 1px 3px 1px rgba(0, 0, 0, 0.15);\n",
              "      filter: drop-shadow(0px 1px 2px rgba(0, 0, 0, 0.3));\n",
              "      fill: #FFFFFF;\n",
              "    }\n",
              "  </style>\n",
              "\n",
              "    <script>\n",
              "      const buttonEl =\n",
              "        document.querySelector('#df-9538db4d-a5b4-49e2-89e6-28535376501b button.colab-df-convert');\n",
              "      buttonEl.style.display =\n",
              "        google.colab.kernel.accessAllowed ? 'block' : 'none';\n",
              "\n",
              "      async function convertToInteractive(key) {\n",
              "        const element = document.querySelector('#df-9538db4d-a5b4-49e2-89e6-28535376501b');\n",
              "        const dataTable =\n",
              "          await google.colab.kernel.invokeFunction('convertToInteractive',\n",
              "                                                    [key], {});\n",
              "        if (!dataTable) return;\n",
              "\n",
              "        const docLinkHtml = 'Like what you see? Visit the ' +\n",
              "          '<a target=\"_blank\" href=https://colab.research.google.com/notebooks/data_table.ipynb>data table notebook</a>'\n",
              "          + ' to learn more about interactive tables.';\n",
              "        element.innerHTML = '';\n",
              "        dataTable['output_type'] = 'display_data';\n",
              "        await google.colab.output.renderOutput(dataTable, element);\n",
              "        const docLink = document.createElement('div');\n",
              "        docLink.innerHTML = docLinkHtml;\n",
              "        element.appendChild(docLink);\n",
              "      }\n",
              "    </script>\n",
              "  </div>\n",
              "\n",
              "\n",
              "<div id=\"df-d2f9b5d4-15cf-40d0-9e73-524b545cc6d7\">\n",
              "  <button class=\"colab-df-quickchart\" onclick=\"quickchart('df-d2f9b5d4-15cf-40d0-9e73-524b545cc6d7')\"\n",
              "            title=\"Suggest charts\"\n",
              "            style=\"display:none;\">\n",
              "\n",
              "<svg xmlns=\"http://www.w3.org/2000/svg\" height=\"24px\"viewBox=\"0 0 24 24\"\n",
              "     width=\"24px\">\n",
              "    <g>\n",
              "        <path d=\"M19 3H5c-1.1 0-2 .9-2 2v14c0 1.1.9 2 2 2h14c1.1 0 2-.9 2-2V5c0-1.1-.9-2-2-2zM9 17H7v-7h2v7zm4 0h-2V7h2v10zm4 0h-2v-4h2v4z\"/>\n",
              "    </g>\n",
              "</svg>\n",
              "  </button>\n",
              "\n",
              "<style>\n",
              "  .colab-df-quickchart {\n",
              "      --bg-color: #E8F0FE;\n",
              "      --fill-color: #1967D2;\n",
              "      --hover-bg-color: #E2EBFA;\n",
              "      --hover-fill-color: #174EA6;\n",
              "      --disabled-fill-color: #AAA;\n",
              "      --disabled-bg-color: #DDD;\n",
              "  }\n",
              "\n",
              "  [theme=dark] .colab-df-quickchart {\n",
              "      --bg-color: #3B4455;\n",
              "      --fill-color: #D2E3FC;\n",
              "      --hover-bg-color: #434B5C;\n",
              "      --hover-fill-color: #FFFFFF;\n",
              "      --disabled-bg-color: #3B4455;\n",
              "      --disabled-fill-color: #666;\n",
              "  }\n",
              "\n",
              "  .colab-df-quickchart {\n",
              "    background-color: var(--bg-color);\n",
              "    border: none;\n",
              "    border-radius: 50%;\n",
              "    cursor: pointer;\n",
              "    display: none;\n",
              "    fill: var(--fill-color);\n",
              "    height: 32px;\n",
              "    padding: 0;\n",
              "    width: 32px;\n",
              "  }\n",
              "\n",
              "  .colab-df-quickchart:hover {\n",
              "    background-color: var(--hover-bg-color);\n",
              "    box-shadow: 0 1px 2px rgba(60, 64, 67, 0.3), 0 1px 3px 1px rgba(60, 64, 67, 0.15);\n",
              "    fill: var(--button-hover-fill-color);\n",
              "  }\n",
              "\n",
              "  .colab-df-quickchart-complete:disabled,\n",
              "  .colab-df-quickchart-complete:disabled:hover {\n",
              "    background-color: var(--disabled-bg-color);\n",
              "    fill: var(--disabled-fill-color);\n",
              "    box-shadow: none;\n",
              "  }\n",
              "\n",
              "  .colab-df-spinner {\n",
              "    border: 2px solid var(--fill-color);\n",
              "    border-color: transparent;\n",
              "    border-bottom-color: var(--fill-color);\n",
              "    animation:\n",
              "      spin 1s steps(1) infinite;\n",
              "  }\n",
              "\n",
              "  @keyframes spin {\n",
              "    0% {\n",
              "      border-color: transparent;\n",
              "      border-bottom-color: var(--fill-color);\n",
              "      border-left-color: var(--fill-color);\n",
              "    }\n",
              "    20% {\n",
              "      border-color: transparent;\n",
              "      border-left-color: var(--fill-color);\n",
              "      border-top-color: var(--fill-color);\n",
              "    }\n",
              "    30% {\n",
              "      border-color: transparent;\n",
              "      border-left-color: var(--fill-color);\n",
              "      border-top-color: var(--fill-color);\n",
              "      border-right-color: var(--fill-color);\n",
              "    }\n",
              "    40% {\n",
              "      border-color: transparent;\n",
              "      border-right-color: var(--fill-color);\n",
              "      border-top-color: var(--fill-color);\n",
              "    }\n",
              "    60% {\n",
              "      border-color: transparent;\n",
              "      border-right-color: var(--fill-color);\n",
              "    }\n",
              "    80% {\n",
              "      border-color: transparent;\n",
              "      border-right-color: var(--fill-color);\n",
              "      border-bottom-color: var(--fill-color);\n",
              "    }\n",
              "    90% {\n",
              "      border-color: transparent;\n",
              "      border-bottom-color: var(--fill-color);\n",
              "    }\n",
              "  }\n",
              "</style>\n",
              "\n",
              "  <script>\n",
              "    async function quickchart(key) {\n",
              "      const quickchartButtonEl =\n",
              "        document.querySelector('#' + key + ' button');\n",
              "      quickchartButtonEl.disabled = true;  // To prevent multiple clicks.\n",
              "      quickchartButtonEl.classList.add('colab-df-spinner');\n",
              "      try {\n",
              "        const charts = await google.colab.kernel.invokeFunction(\n",
              "            'suggestCharts', [key], {});\n",
              "      } catch (error) {\n",
              "        console.error('Error during call to suggestCharts:', error);\n",
              "      }\n",
              "      quickchartButtonEl.classList.remove('colab-df-spinner');\n",
              "      quickchartButtonEl.classList.add('colab-df-quickchart-complete');\n",
              "    }\n",
              "    (() => {\n",
              "      let quickchartButtonEl =\n",
              "        document.querySelector('#df-d2f9b5d4-15cf-40d0-9e73-524b545cc6d7 button');\n",
              "      quickchartButtonEl.style.display =\n",
              "        google.colab.kernel.accessAllowed ? 'block' : 'none';\n",
              "    })();\n",
              "  </script>\n",
              "</div>\n",
              "\n",
              "    </div>\n",
              "  </div>\n"
            ],
            "application/vnd.google.colaboratory.intrinsic+json": {
              "type": "dataframe",
              "variable_name": "data",
              "summary": "{\n  \"name\": \"data\",\n  \"rows\": 9994,\n  \"fields\": [\n    {\n      \"column\": \"Order ID\",\n      \"properties\": {\n        \"dtype\": \"string\",\n        \"num_unique_values\": 5009,\n        \"samples\": [\n          \"CA-2016-120796\",\n          \"CA-2014-141901\",\n          \"CA-2017-101273\"\n        ],\n        \"semantic_type\": \"\",\n        \"description\": \"\"\n      }\n    },\n    {\n      \"column\": \"Order Date\",\n      \"properties\": {\n        \"dtype\": \"object\",\n        \"num_unique_values\": 1237,\n        \"samples\": [\n          \"12/29/2017\",\n          \"12/19/2014\",\n          \"03/25/2016\"\n        ],\n        \"semantic_type\": \"\",\n        \"description\": \"\"\n      }\n    },\n    {\n      \"column\": \"Ship Date\",\n      \"properties\": {\n        \"dtype\": \"object\",\n        \"num_unique_values\": 1334,\n        \"samples\": [\n          \"08/13/2016\",\n          \"04/21/2014\",\n          \"11/01/2014\"\n        ],\n        \"semantic_type\": \"\",\n        \"description\": \"\"\n      }\n    },\n    {\n      \"column\": \"Ship Mode\",\n      \"properties\": {\n        \"dtype\": \"category\",\n        \"num_unique_values\": 4,\n        \"samples\": [\n          \"Standard Class\",\n          \"Same Day\",\n          \"Second Class\"\n        ],\n        \"semantic_type\": \"\",\n        \"description\": \"\"\n      }\n    },\n    {\n      \"column\": \"Customer ID\",\n      \"properties\": {\n        \"dtype\": \"category\",\n        \"num_unique_values\": 793,\n        \"samples\": [\n          \"DJ-13510\",\n          \"MD-17350\",\n          \"NF-18475\"\n        ],\n        \"semantic_type\": \"\",\n        \"description\": \"\"\n      }\n    },\n    {\n      \"column\": \"Customer Name\",\n      \"properties\": {\n        \"dtype\": \"category\",\n        \"num_unique_values\": 793,\n        \"samples\": [\n          \"Don Jones\",\n          \"Maribeth Dona\",\n          \"Neil Franz\\u00f6sisch\"\n        ],\n        \"semantic_type\": \"\",\n        \"description\": \"\"\n      }\n    },\n    {\n      \"column\": \"Segment\",\n      \"properties\": {\n        \"dtype\": \"category\",\n        \"num_unique_values\": 3,\n        \"samples\": [\n          \"Consumer\",\n          \"Corporate\",\n          \"Home Office\"\n        ],\n        \"semantic_type\": \"\",\n        \"description\": \"\"\n      }\n    },\n    {\n      \"column\": \"Country\",\n      \"properties\": {\n        \"dtype\": \"category\",\n        \"num_unique_values\": 1,\n        \"samples\": [\n          \"United States\"\n        ],\n        \"semantic_type\": \"\",\n        \"description\": \"\"\n      }\n    },\n    {\n      \"column\": \"City\",\n      \"properties\": {\n        \"dtype\": \"category\",\n        \"num_unique_values\": 531,\n        \"samples\": [\n          \"Laurel\"\n        ],\n        \"semantic_type\": \"\",\n        \"description\": \"\"\n      }\n    },\n    {\n      \"column\": \"State\",\n      \"properties\": {\n        \"dtype\": \"category\",\n        \"num_unique_values\": 50,\n        \"samples\": [\n          \"Michigan\"\n        ],\n        \"semantic_type\": \"\",\n        \"description\": \"\"\n      }\n    },\n    {\n      \"column\": \"Postal Code\",\n      \"properties\": {\n        \"dtype\": \"number\",\n        \"std\": 32063,\n        \"min\": 1040,\n        \"max\": 99301,\n        \"num_unique_values\": 631,\n        \"samples\": [\n          30062\n        ],\n        \"semantic_type\": \"\",\n        \"description\": \"\"\n      }\n    },\n    {\n      \"column\": \"Region\",\n      \"properties\": {\n        \"dtype\": \"category\",\n        \"num_unique_values\": 4,\n        \"samples\": [\n          \"West\"\n        ],\n        \"semantic_type\": \"\",\n        \"description\": \"\"\n      }\n    },\n    {\n      \"column\": \"Product ID\",\n      \"properties\": {\n        \"dtype\": \"category\",\n        \"num_unique_values\": 1862,\n        \"samples\": [\n          \"TEC-PH-10001580\"\n        ],\n        \"semantic_type\": \"\",\n        \"description\": \"\"\n      }\n    },\n    {\n      \"column\": \"Category\",\n      \"properties\": {\n        \"dtype\": \"category\",\n        \"num_unique_values\": 3,\n        \"samples\": [\n          \"Furniture\"\n        ],\n        \"semantic_type\": \"\",\n        \"description\": \"\"\n      }\n    },\n    {\n      \"column\": \"Sub-Category\",\n      \"properties\": {\n        \"dtype\": \"category\",\n        \"num_unique_values\": 17,\n        \"samples\": [\n          \"Bookcases\"\n        ],\n        \"semantic_type\": \"\",\n        \"description\": \"\"\n      }\n    },\n    {\n      \"column\": \"Product Name\",\n      \"properties\": {\n        \"dtype\": \"category\",\n        \"num_unique_values\": 1850,\n        \"samples\": [\n          \"Belkin 19\\\" Vented Equipment Shelf, Black\"\n        ],\n        \"semantic_type\": \"\",\n        \"description\": \"\"\n      }\n    },\n    {\n      \"column\": \"Sales\",\n      \"properties\": {\n        \"dtype\": \"number\",\n        \"std\": 623.2451005086807,\n        \"min\": 0.444,\n        \"max\": 22638.48,\n        \"num_unique_values\": 5825,\n        \"samples\": [\n          2624.985\n        ],\n        \"semantic_type\": \"\",\n        \"description\": \"\"\n      }\n    },\n    {\n      \"column\": \"Quantity\",\n      \"properties\": {\n        \"dtype\": \"number\",\n        \"std\": 2,\n        \"min\": 1,\n        \"max\": 14,\n        \"num_unique_values\": 14,\n        \"samples\": [\n          14\n        ],\n        \"semantic_type\": \"\",\n        \"description\": \"\"\n      }\n    },\n    {\n      \"column\": \"Discount\",\n      \"properties\": {\n        \"dtype\": \"number\",\n        \"std\": 0.20666789495438068,\n        \"min\": 0.0,\n        \"max\": 0.8,\n        \"num_unique_values\": 12,\n        \"samples\": [\n          0.4\n        ],\n        \"semantic_type\": \"\",\n        \"description\": \"\"\n      }\n    },\n    {\n      \"column\": \"Profit\",\n      \"properties\": {\n        \"dtype\": \"number\",\n        \"std\": 234.2601076909573,\n        \"min\": -6599.978,\n        \"max\": 8399.976,\n        \"num_unique_values\": 7287,\n        \"samples\": [\n          -183.6324\n        ],\n        \"semantic_type\": \"\",\n        \"description\": \"\"\n      }\n    }\n  ]\n}"
            }
          },
          "metadata": {},
          "execution_count": 479
        }
      ]
    },
    {
      "cell_type": "markdown",
      "source": [
        "**(2) handle missing value [ship Date (by mode) - Discount(by mean)]**"
      ],
      "metadata": {
        "id": "ecqP1tUcctqX"
      }
    },
    {
      "cell_type": "code",
      "source": [
        "mode = data['Ship Mode'].mode().iloc[0]\n",
        "data['Ship Mode'].fillna(mode , inplace= True)\n",
        "\n",
        "mean_discount = data['Discount'].mean()\n",
        "data['Discount'].fillna(mean_discount, inplace=True)"
      ],
      "metadata": {
        "id": "p2Aw9vWDBnKQ"
      },
      "execution_count": 480,
      "outputs": []
    },
    {
      "cell_type": "code",
      "source": [
        "print_missing_values(data)"
      ],
      "metadata": {
        "id": "M_91Y35zGDqv",
        "colab": {
          "base_uri": "https://localhost:8080/"
        },
        "outputId": "5c8776d5-9726-43f1-dffa-2a2fa7add6ed"
      },
      "execution_count": 481,
      "outputs": [
        {
          "output_type": "stream",
          "name": "stdout",
          "text": [
            "Order ID         0\n",
            "Order Date       0\n",
            "Ship Date        0\n",
            "Ship Mode        0\n",
            "Customer ID      0\n",
            "Customer Name    0\n",
            "Segment          0\n",
            "Country          0\n",
            "City             0\n",
            "State            0\n",
            "Postal Code      0\n",
            "Region           0\n",
            "Product ID       0\n",
            "Category         0\n",
            "Sub-Category     0\n",
            "Product Name     0\n",
            "Sales            0\n",
            "Quantity         0\n",
            "Discount         0\n",
            "Profit           0\n",
            "dtype: int64\n"
          ]
        }
      ]
    },
    {
      "cell_type": "markdown",
      "source": [
        "**(3) removing duplicate rows**"
      ],
      "metadata": {
        "id": "sDwCB0V6c5kf"
      }
    },
    {
      "cell_type": "code",
      "source": [
        "print(data.count())\n",
        "\n",
        "data.duplicated()\n",
        "data = data.drop_duplicates()\n",
        "\n",
        "print(data.count())"
      ],
      "metadata": {
        "id": "1WGyzsGfGEva",
        "colab": {
          "base_uri": "https://localhost:8080/"
        },
        "outputId": "b89dfdc4-581a-44f3-b6a3-13398df33bfc"
      },
      "execution_count": 482,
      "outputs": [
        {
          "output_type": "stream",
          "name": "stdout",
          "text": [
            "Order ID         9994\n",
            "Order Date       9994\n",
            "Ship Date        9994\n",
            "Ship Mode        9994\n",
            "Customer ID      9994\n",
            "Customer Name    9994\n",
            "Segment          9994\n",
            "Country          9994\n",
            "City             9994\n",
            "State            9994\n",
            "Postal Code      9994\n",
            "Region           9994\n",
            "Product ID       9994\n",
            "Category         9994\n",
            "Sub-Category     9994\n",
            "Product Name     9994\n",
            "Sales            9994\n",
            "Quantity         9994\n",
            "Discount         9994\n",
            "Profit           9994\n",
            "dtype: int64\n",
            "Order ID         9993\n",
            "Order Date       9993\n",
            "Ship Date        9993\n",
            "Ship Mode        9993\n",
            "Customer ID      9993\n",
            "Customer Name    9993\n",
            "Segment          9993\n",
            "Country          9993\n",
            "City             9993\n",
            "State            9993\n",
            "Postal Code      9993\n",
            "Region           9993\n",
            "Product ID       9993\n",
            "Category         9993\n",
            "Sub-Category     9993\n",
            "Product Name     9993\n",
            "Sales            9993\n",
            "Quantity         9993\n",
            "Discount         9993\n",
            "Profit           9993\n",
            "dtype: int64\n"
          ]
        }
      ]
    },
    {
      "cell_type": "markdown",
      "source": [
        "**(4) outlier handling**"
      ],
      "metadata": {
        "id": "9bCkha5kdCco"
      }
    },
    {
      "cell_type": "code",
      "source": [
        "# Visualize before handling outliers\n",
        "visualize_box_plot(data)"
      ],
      "metadata": {
        "id": "V8fwEbLNKxoT",
        "colab": {
          "base_uri": "https://localhost:8080/",
          "height": 1000
        },
        "outputId": "6cda7279-4926-478f-a798-40c48ae1b6d6"
      },
      "execution_count": 483,
      "outputs": [
        {
          "output_type": "display_data",
          "data": {
            "text/plain": [
              "<Figure size 800x600 with 1 Axes>"
            ],
            "image/png": "[encoded data removed]"
          },
          "metadata": {}
        },
        {
          "output_type": "display_data",
          "data": {
            "text/plain": [
              "<Figure size 800x600 with 1 Axes>"
            ],
            "image/png": "[encoded data removed]"
          },
          "metadata": {}
        },
        {
          "output_type": "display_data",
          "data": {
            "text/plain": [
              "<Figure size 800x600 with 1 Axes>"
            ],
            "image/png": "[encoded data removed]"
          },
          "metadata": {}
        },
        {
          "output_type": "display_data",
          "data": {
            "text/plain": [
              "<Figure size 800x600 with 1 Axes>"
            ],
            "image/png": "[encoded data removed]"
          },
          "metadata": {}
        },
        {
          "output_type": "display_data",
          "data": {
            "text/plain": [
              "<Figure size 800x600 with 1 Axes>"
            ],
            "image/png": "[encoded data removed]"
          },
          "metadata": {}
        }
      ]
    },
    {
      "cell_type": "code",
      "source": [
        "for column in data.select_dtypes(include=['number']):\n",
        "    handle_outliers_iqr(data, column)"
      ],
      "metadata": {
        "id": "TE74iUtbN2-B"
      },
      "execution_count": 484,
      "outputs": []
    },
    {
      "cell_type": "code",
      "source": [
        "#Visulize after handling outliers\n",
        "visualize_box_plot(data)"
      ],
      "metadata": {
        "id": "dpz2HneDgid-",
        "colab": {
          "base_uri": "https://localhost:8080/",
          "height": 1000
        },
        "outputId": "75e14f6b-1b8d-443a-bb1e-05ce6317a2e6"
      },
      "execution_count": 485,
      "outputs": [
        {
          "output_type": "display_data",
          "data": {
            "text/plain": [
              "<Figure size 800x600 with 1 Axes>"
            ],
            "image/png": "[encoded data removed]"
          },
          "metadata": {}
        },
        {
          "output_type": "display_data",
          "data": {
            "text/plain": [
              "<Figure size 800x600 with 1 Axes>"
            ],
            "image/png": "[encoded data removed]"
          },
          "metadata": {}
        },
        {
          "output_type": "display_data",
          "data": {
            "text/plain": [
              "<Figure size 800x600 with 1 Axes>"
            ],
            "image/png": "[encoded data removed]"
          },
          "metadata": {}
        },
        {
          "output_type": "display_data",
          "data": {
            "text/plain": [
              "<Figure size 800x600 with 1 Axes>"
            ],
            "image/png": "[encoded data removed]"
          },
          "metadata": {}
        },
        {
          "output_type": "display_data",
          "data": {
            "text/plain": [
              "<Figure size 800x600 with 1 Axes>"
            ],
            "image/png": "[encoded data removed]"
          },
          "metadata": {}
        }
      ]
    },
    {
      "cell_type": "code",
      "source": [
        "normalize_data(data)"
      ],
      "metadata": {
        "id": "Fp1nWTfxe9VD",
        "colab": {
          "base_uri": "https://localhost:8080/"
        },
        "outputId": "4c803aac-2322-483a-cdc6-e94e93e52777"
      },
      "execution_count": 486,
      "outputs": [
        {
          "output_type": "stream",
          "name": "stdout",
          "text": [
            "         Order ID  Order Date   Ship Date       Ship Mode Customer ID  \\\n",
            "0  CA-2016-152156  11/08/2016  11/11/2016    Second Class    CG-12520   \n",
            "1  CA-2016-152156  11/08/2016  11/11/2016    Second Class    CG-12520   \n",
            "2  CA-2016-138688  06/12/2016  06/16/2016    Second Class    DV-13045   \n",
            "3  US-2015-108966  10/11/2015  10/18/2015  Standard Class    SO-20335   \n",
            "4  US-2015-108966  10/11/2015  10/18/2015  Standard Class    SO-20335   \n",
            "\n",
            "     Customer Name    Segment        Country             City       State  \\\n",
            "0      Claire Gute   Consumer  United States        Henderson    Kentucky   \n",
            "1      Claire Gute   Consumer  United States        Henderson    Kentucky   \n",
            "2  Darrin Van Huff  Corporate  United States      Los Angeles  California   \n",
            "3   Sean O'Donnell   Consumer  United States  Fort Lauderdale     Florida   \n",
            "4   Sean O'Donnell   Consumer  United States  Fort Lauderdale     Florida   \n",
            "\n",
            "   Postal Code Region       Product ID         Category Sub-Category  \\\n",
            "0      42420.0  South  FUR-BO-10001798        Furniture    Bookcases   \n",
            "1      42420.0  South  FUR-CH-10000454        Furniture       Chairs   \n",
            "2      90036.0   West  OFF-LA-10000240  Office Supplies       Labels   \n",
            "3      33311.0  South  FUR-TA-10000577        Furniture       Tables   \n",
            "4      33311.0  South  OFF-ST-10000760  Office Supplies      Storage   \n",
            "\n",
            "                                        Product Name     Sales  Quantity  \\\n",
            "0                  Bush Somerset Collection Bookcase  0.524621       2.0   \n",
            "1  Hon Deluxe Fabric Upholstered Stacking Chairs,...  1.000000       3.0   \n",
            "2  Self-Adhesive Address Labels for Typewriters b...  0.028438       2.0   \n",
            "3      Bretford CR4500 Series Slim Rectangular Table  1.000000       5.0   \n",
            "4                     Eldon Fold 'N Roll Cart System  0.043981       2.0   \n",
            "\n",
            "   Discount    Profit  \n",
            "0      0.00  0.738538  \n",
            "1      0.00  1.000000  \n",
            "2      0.00  0.421506  \n",
            "3      0.45  0.000000  \n",
            "4      0.20  0.382106  \n"
          ]
        }
      ]
    },
    {
      "cell_type": "code",
      "source": [
        "#Visulize after handling outliers and normalization\n",
        "visualize_box_plot(data)"
      ],
      "metadata": {
        "id": "hX3TvRE8OEUa",
        "colab": {
          "base_uri": "https://localhost:8080/",
          "height": 1000
        },
        "outputId": "ee6a9f02-3784-45c2-cf79-7efe67b35889"
      },
      "execution_count": 487,
      "outputs": [
        {
          "output_type": "display_data",
          "data": {
            "text/plain": [
              "<Figure size 800x600 with 1 Axes>"
            ],
            "image/png": "[encoded data removed]"
          },
          "metadata": {}
        },
        {
          "output_type": "display_data",
          "data": {
            "text/plain": [
              "<Figure size 800x600 with 1 Axes>"
            ],
            "image/png": "[encoded data removed]"
          },
          "metadata": {}
        },
        {
          "output_type": "display_data",
          "data": {
            "text/plain": [
              "<Figure size 800x600 with 1 Axes>"
            ],
            "image/png": "[encoded data removed]"
          },
          "metadata": {}
        },
        {
          "output_type": "display_data",
          "data": {
            "text/plain": [
              "<Figure size 800x600 with 1 Axes>"
            ],
            "image/png": "[encoded data removed]"
          },
          "metadata": {}
        },
        {
          "output_type": "display_data",
          "data": {
            "text/plain": [
              "<Figure size 800x600 with 1 Axes>"
            ],
            "image/png": "[encoded data removed]"
          },
          "metadata": {}
        }
      ]
    },
    {
      "cell_type": "markdown",
      "source": [
        "**(5) Handling inconsistency**"
      ],
      "metadata": {
        "id": "qhfrcv97gnc8"
      }
    },
    {
      "cell_type": "code",
      "source": [
        "print(data.count())\n",
        "\n",
        "data['Order Date'] = pd.to_datetime(data['Order Date'])\n",
        "data['Ship Date'] = pd.to_datetime(data['Ship Date'])\n",
        "\n",
        "# Filter out rows where Ship Date is smaller than Order Date\n",
        "data = data[data['Ship Date'] >= data['Order Date']]\n",
        "\n",
        "print(data.count())"
      ],
      "metadata": {
        "id": "anYeMBU4QBPQ",
        "colab": {
          "base_uri": "https://localhost:8080/"
        },
        "outputId": "fb5c216e-c803-4b57-8f09-7ede9d23ba1d"
      },
      "execution_count": 488,
      "outputs": [
        {
          "output_type": "stream",
          "name": "stdout",
          "text": [
            "Order ID         9993\n",
            "Order Date       9993\n",
            "Ship Date        9993\n",
            "Ship Mode        9993\n",
            "Customer ID      9993\n",
            "Customer Name    9993\n",
            "Segment          9993\n",
            "Country          9993\n",
            "City             9993\n",
            "State            9993\n",
            "Postal Code      9993\n",
            "Region           9993\n",
            "Product ID       9993\n",
            "Category         9993\n",
            "Sub-Category     9993\n",
            "Product Name     9993\n",
            "Sales            9993\n",
            "Quantity         9993\n",
            "Discount         9993\n",
            "Profit           9993\n",
            "dtype: int64\n",
            "Order ID         9993\n",
            "Order Date       9993\n",
            "Ship Date        9993\n",
            "Ship Mode        9993\n",
            "Customer ID      9993\n",
            "Customer Name    9993\n",
            "Segment          9993\n",
            "Country          9993\n",
            "City             9993\n",
            "State            9993\n",
            "Postal Code      9993\n",
            "Region           9993\n",
            "Product ID       9993\n",
            "Category         9993\n",
            "Sub-Category     9993\n",
            "Product Name     9993\n",
            "Sales            9993\n",
            "Quantity         9993\n",
            "Discount         9993\n",
            "Profit           9993\n",
            "dtype: int64\n"
          ]
        }
      ]
    },
    {
      "cell_type": "markdown",
      "source": [
        "**Exporting the dataset after cleaning**"
      ],
      "metadata": {
        "id": "GEcIH8lZyMp9"
      }
    },
    {
      "cell_type": "code",
      "source": [
        "# Define the file path for the CSV file\n",
        "output_file_path = '/content/CleanedWalmartDataset.csv'\n",
        "\n",
        "# Export the DataFrame to a CSV file\n",
        "data.to_csv(output_file_path, index=False)"
      ],
      "metadata": {
        "id": "RHGEHyE1x0D9"
      },
      "execution_count": 490,
      "outputs": []
    }
  ]
}